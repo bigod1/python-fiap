{
 "cells": [
  {
   "attachments": {},
   "cell_type": "markdown",
   "metadata": {},
   "source": [
    "# Setup"
   ]
  },
  {
   "cell_type": "code",
   "execution_count": null,
   "metadata": {},
   "outputs": [],
   "source": [
    "pip install sympy"
   ]
  },
  {
   "cell_type": "code",
   "execution_count": null,
   "metadata": {},
   "outputs": [],
   "source": [
    "pip install pandas"
   ]
  },
  {
   "cell_type": "code",
   "execution_count": null,
   "metadata": {},
   "outputs": [],
   "source": [
    "from sympy import *\n",
    "import pandas as pd"
   ]
  },
  {
   "attachments": {},
   "cell_type": "markdown",
   "metadata": {},
   "source": [
    "# Aula 11"
   ]
  },
  {
   "cell_type": "code",
   "execution_count": 12,
   "metadata": {},
   "outputs": [
    {
     "name": "stdout",
     "output_type": "stream",
     "text": [
      "Valor inválido. Digite um valor entre 5 e 10: \n",
      "Valor inválido. Digite um valor entre 5 e 10: \n",
      "Valor inválido:  5\n"
     ]
    },
    {
     "data": {
      "text/plain": [
       "'\\nFunção: faixa_int\\nParâmetros: minimo, maximo\\nEntradas: v\\nCondição: v < minimo ou v > maximo\\nSaída: valor inválido, retorna v\\ncomo chamar função: faixa_int (minimo, maximo)\\n'"
      ]
     },
     "execution_count": 12,
     "metadata": {},
     "output_type": "execute_result"
    }
   ],
   "source": [
    "def faixa_int(minimo, maximo):\n",
    "    while True:\n",
    "        v = int(input(\"Entre com valor entre {} e {}: \" .format(minimo, maximo)))\n",
    "        if v < minimo or v > maximo:\n",
    "            print(\"Valor inválido. Digite um valor entre {} e {}: \".format(minimo, maximo))\n",
    "        else:\n",
    "            return v\n",
    "\n",
    "minimo = 5\n",
    "maximo = 10\n",
    "\n",
    "valor = faixa_int(minimo, maximo)\n",
    "print(\"Valor inválido: \", valor)\n",
    "\n",
    "'''\n",
    "Função: faixa_int\n",
    "Parâmetros: minimo, maximo\n",
    "Entradas: v\n",
    "Condição: v < minimo ou v > maximo\n",
    "Saída: valor inválido, retorna v\n",
    "como chamar função: faixa_int (minimo, maximo)\n",
    "'''\n"
   ]
  },
  {
   "cell_type": "code",
   "execution_count": 23,
   "metadata": {},
   "outputs": [
    {
     "name": "stdout",
     "output_type": "stream",
     "text": [
      "False\n"
     ]
    }
   ],
   "source": [
    "'''\n",
    "Ex 1 - Validação de inteiro usando função\n",
    "Escreva uma função para validar uma variável string.\n",
    "Essa função recebe como parâmetro a string, o número mínimo e máximo de caracteres.\n",
    "Retorne verdadeiro se o tamanho da string estiver entre os valores de máximo e mínimo, e falso em caso contrário.\n",
    "\n",
    "- Dê um mone para função\n",
    "- deixe 3 parâmetros para função (string, min max)\n",
    "- deixe uma variável para verificar tamanho da string\n",
    "- retorne min <= variável <= max\n",
    "- chame função (\"palavra\", 1(min), 3(max))\n",
    "'''\n",
    "def numero_caracteres(palavra, min, max):\n",
    "    tamanho = len(palavra)\n",
    "    return min <= tamanho <= max\n",
    "\n",
    "min = 1\n",
    "max = 3\n",
    "palavra = str(input(\"Entre com valor entre {} e {}: \" .format(minimo, maximo)))\n",
    "\n",
    "resultado = numero_caracteres(palavra, min, max)\n",
    "print(resultado)\n"
   ]
  },
  {
   "cell_type": "code",
   "execution_count": 26,
   "metadata": {},
   "outputs": [
    {
     "name": "stdout",
     "output_type": "stream",
     "text": [
      "True\n"
     ]
    }
   ],
   "source": [
    "'''\n",
    "Ex 2 - Validação de inteiro usando função\n",
    "\n",
    "Escreva uma função que receba uma str e uma lista.\n",
    "A função deve comparar a str passada com os elementos da lista, tbm passada como parâmetro.\n",
    "Retorne verdadeiro se a string for encontrada dentro da lista, e falso em caso contrário.\n",
    "'''\n",
    "\n",
    "def palavra_listada (string, lista_palavras):\n",
    "    if string in lista_palavras:\n",
    "        return True\n",
    "    else:\n",
    "        return False\n",
    "\n",
    "string = str(input(\" \"))\n",
    "nomes = ['João', 'Maria', 'José', 'Ana']\n",
    "resultado = palavra_listada (string, nomes)\n",
    "print(resultado)\n",
    "\n",
    "'''\n",
    "def palavra_listada (string, lista_palavras):\n",
    "    return string in lista:\n",
    "'''\n"
   ]
  },
  {
   "cell_type": "code",
   "execution_count": 28,
   "metadata": {},
   "outputs": [
    {
     "name": "stdout",
     "output_type": "stream",
     "text": [
      "7\n",
      "4\n",
      "<function soma at 0x000001FB43475BC0>\n",
      "None\n",
      "<function subtracao at 0x000001FB434753A0>\n",
      "None\n"
     ]
    }
   ],
   "source": [
    "def soma(a,b):\n",
    "    '''função soma'''\n",
    "    return a+b\n",
    "\n",
    "def subtracao(a,b):\n",
    "    return a-b\n",
    "\n",
    "def imprime(a,b,func_param):\n",
    "    print(func_param)\n",
    "\n",
    "resultado = soma(3,4)\n",
    "print(resultado)\n",
    "resultado = subtracao(9,5)\n",
    "print(resultado)\n",
    "resultado = imprime(3,4, soma)\n",
    "print(resultado)\n",
    "resultado = imprime(9,5, subtracao)\n",
    "print(resultado)"
   ]
  },
  {
   "cell_type": "code",
   "execution_count": 31,
   "metadata": {},
   "outputs": [
    {
     "name": "stdout",
     "output_type": "stream",
     "text": [
      "5\n",
      "2\n",
      "15\n",
      "5.0\n",
      "6.75\n"
     ]
    }
   ],
   "source": [
    "'''\n",
    "Exercício sobre Empacotamento e desempacotamento de parâmetros\n",
    "\n",
    "Mostre como calcular a média do resultado das quatro funções abaixo.\n",
    "Crie uma função utilizando empacotamento de parâmetros para cada função.\n",
    "No final, pegue o resultado das quatro funções e calcule a média.\n",
    "1. Calcule a soma ente a e b\n",
    "2. Calcule o produto ente a e b\n",
    "3. Calcule a subtração ente a e b\n",
    "4. Calcule a divisão ente a e b\n",
    "5. Calcule a média entr os resultados apresentados em 1, 2, 3 e 4.\n",
    "'''\n",
    "def soma(lista):\n",
    "    return lista_soma[0] + lista_soma[1]\n",
    "def subtracao(lista):\n",
    "    return lista_subtracao[0] - lista_subtracao[1]\n",
    "def multiplicacao(lista):\n",
    "    return lista_multiplicacao[0] * lista_multiplicacao[1]\n",
    "def divisao(lista):\n",
    "    return lista_divisao[0] / lista_divisao[1]\n",
    "\n",
    "\n",
    "lista_soma = [2,3]\n",
    "lista_subtracao = [4,2]\n",
    "lista_multiplicacao = [3,5]\n",
    "lista_divisao = [20,4]\n",
    "\n",
    "adicao = soma(lista_soma)\n",
    "reducao = subtracao(lista_subtracao)\n",
    "multi = multiplicacao(lista_multiplicacao)\n",
    "divi = divisao(lista_divisao)\n",
    "\n",
    "media = (adicao + reducao + multi + divi)/4\n",
    "\n",
    "print (adicao)\n",
    "print (reducao)\n",
    "print (multi)\n",
    "print (divi)\n",
    "print (media)"
   ]
  },
  {
   "cell_type": "code",
   "execution_count": 34,
   "metadata": {},
   "outputs": [
    {
     "name": "stdout",
     "output_type": "stream",
     "text": [
      "5\n",
      "2\n",
      "15\n",
      "5.0\n",
      "6.75\n"
     ]
    }
   ],
   "source": [
    "def soma(a,b):\n",
    "    return a + b\n",
    "def subtracao(a,b):\n",
    "    return a - b\n",
    "def multiplicacao(a,b):\n",
    "    return a * b\n",
    "def divisao(a,b):\n",
    "    return a / b\n",
    "\n",
    "\n",
    "lista_soma = [2,3]\n",
    "lista_subtracao = [4,2]\n",
    "lista_multiplicacao = [3,5]\n",
    "lista_divisao = [20,4]\n",
    "\n",
    "adicao = soma(*lista_soma)\n",
    "reducao = subtracao(*lista_subtracao)\n",
    "multi = multiplicacao(*lista_multiplicacao)\n",
    "divi = divisao(*lista_divisao)\n",
    "\n",
    "media = (adicao + reducao + multi + divi)/4\n",
    "\n",
    "print (adicao)\n",
    "print (reducao)\n",
    "print (multi)\n",
    "print (divi)\n",
    "print (media)"
   ]
  },
  {
   "cell_type": "code",
   "execution_count": 35,
   "metadata": {},
   "outputs": [
    {
     "data": {
      "text/plain": [
       "150"
      ]
     },
     "execution_count": 35,
     "metadata": {},
     "output_type": "execute_result"
    }
   ],
   "source": [
    "'''\n",
    "Aplicação de função em dados (dataframe)\n",
    "Somar valores de uma coluna numérica\n",
    "'''\n",
    "\n",
    "data = {'coluna_1':[10,20,30,40,50],\n",
    "        'coluna_2':[5,10,15,20,25],\n",
    "        'coluna_3':['a','b','c','d','e'],\n",
    "        'coluna_4':['x','y','z','w','v']}\n",
    "\n",
    "df=pd.DataFrame(data)\n",
    "\n",
    "def soma_coluna_numerica(coluna):\n",
    "    return coluna.sum()\n",
    "\n",
    "resultado_soma = soma_coluna_numerica(df['coluna_1'])\n",
    "resultado_soma"
   ]
  },
  {
   "cell_type": "code",
   "execution_count": 41,
   "metadata": {},
   "outputs": [
    {
     "data": {
      "text/html": [
       "<div>\n",
       "<style scoped>\n",
       "    .dataframe tbody tr th:only-of-type {\n",
       "        vertical-align: middle;\n",
       "    }\n",
       "\n",
       "    .dataframe tbody tr th {\n",
       "        vertical-align: top;\n",
       "    }\n",
       "\n",
       "    .dataframe thead th {\n",
       "        text-align: right;\n",
       "    }\n",
       "</style>\n",
       "<table border=\"1\" class=\"dataframe\">\n",
       "  <thead>\n",
       "    <tr style=\"text-align: right;\">\n",
       "      <th></th>\n",
       "      <th>coluna_1</th>\n",
       "      <th>coluna_2</th>\n",
       "      <th>coluna_3</th>\n",
       "      <th>coluna_4</th>\n",
       "    </tr>\n",
       "  </thead>\n",
       "  <tbody>\n",
       "    <tr>\n",
       "      <th>0</th>\n",
       "      <td>10</td>\n",
       "      <td>5</td>\n",
       "      <td>a</td>\n",
       "      <td>x</td>\n",
       "    </tr>\n",
       "    <tr>\n",
       "      <th>1</th>\n",
       "      <td>20</td>\n",
       "      <td>10</td>\n",
       "      <td>b</td>\n",
       "      <td>y</td>\n",
       "    </tr>\n",
       "    <tr>\n",
       "      <th>2</th>\n",
       "      <td>30</td>\n",
       "      <td>15</td>\n",
       "      <td>c</td>\n",
       "      <td>z</td>\n",
       "    </tr>\n",
       "    <tr>\n",
       "      <th>3</th>\n",
       "      <td>40</td>\n",
       "      <td>20</td>\n",
       "      <td>d</td>\n",
       "      <td>w</td>\n",
       "    </tr>\n",
       "    <tr>\n",
       "      <th>4</th>\n",
       "      <td>50</td>\n",
       "      <td>25</td>\n",
       "      <td>e</td>\n",
       "      <td>v</td>\n",
       "    </tr>\n",
       "  </tbody>\n",
       "</table>\n",
       "</div>"
      ],
      "text/plain": [
       "   coluna_1  coluna_2 coluna_3 coluna_4\n",
       "0        10         5        a        x\n",
       "1        20        10        b        y\n",
       "2        30        15        c        z\n",
       "3        40        20        d        w\n",
       "4        50        25        e        v"
      ]
     },
     "execution_count": 41,
     "metadata": {},
     "output_type": "execute_result"
    }
   ],
   "source": [
    "df = pd.DataFrame(data)\n",
    "df"
   ]
  },
  {
   "cell_type": "code",
   "execution_count": 39,
   "metadata": {},
   "outputs": [
    {
     "data": {
      "text/plain": [
       "150"
      ]
     },
     "execution_count": 39,
     "metadata": {},
     "output_type": "execute_result"
    }
   ],
   "source": [
    "#Calculo de média\n",
    "\n",
    "def media_coluna(coluna):\n",
    "    return coluna.sum()\n",
    "\n",
    "resultado = media_coluna(df['coluna_1'])\n",
    "resultado"
   ]
  },
  {
   "cell_type": "code",
   "execution_count": 43,
   "metadata": {},
   "outputs": [],
   "source": [
    "def soma_coluna(df):\n",
    "    df['soma'] = df['coluna_1'] + df['coluna_2']\n",
    "    return df\n",
    "\n"
   ]
  },
  {
   "cell_type": "code",
   "execution_count": 44,
   "metadata": {},
   "outputs": [
    {
     "data": {
      "text/html": [
       "<div>\n",
       "<style scoped>\n",
       "    .dataframe tbody tr th:only-of-type {\n",
       "        vertical-align: middle;\n",
       "    }\n",
       "\n",
       "    .dataframe tbody tr th {\n",
       "        vertical-align: top;\n",
       "    }\n",
       "\n",
       "    .dataframe thead th {\n",
       "        text-align: right;\n",
       "    }\n",
       "</style>\n",
       "<table border=\"1\" class=\"dataframe\">\n",
       "  <thead>\n",
       "    <tr style=\"text-align: right;\">\n",
       "      <th></th>\n",
       "      <th>coluna_1</th>\n",
       "      <th>coluna_2</th>\n",
       "      <th>coluna_3</th>\n",
       "      <th>coluna_4</th>\n",
       "      <th>soma</th>\n",
       "    </tr>\n",
       "  </thead>\n",
       "  <tbody>\n",
       "    <tr>\n",
       "      <th>0</th>\n",
       "      <td>10</td>\n",
       "      <td>5</td>\n",
       "      <td>a</td>\n",
       "      <td>x</td>\n",
       "      <td>15</td>\n",
       "    </tr>\n",
       "    <tr>\n",
       "      <th>1</th>\n",
       "      <td>20</td>\n",
       "      <td>10</td>\n",
       "      <td>b</td>\n",
       "      <td>y</td>\n",
       "      <td>30</td>\n",
       "    </tr>\n",
       "    <tr>\n",
       "      <th>2</th>\n",
       "      <td>30</td>\n",
       "      <td>15</td>\n",
       "      <td>c</td>\n",
       "      <td>z</td>\n",
       "      <td>45</td>\n",
       "    </tr>\n",
       "    <tr>\n",
       "      <th>3</th>\n",
       "      <td>40</td>\n",
       "      <td>20</td>\n",
       "      <td>d</td>\n",
       "      <td>w</td>\n",
       "      <td>60</td>\n",
       "    </tr>\n",
       "    <tr>\n",
       "      <th>4</th>\n",
       "      <td>50</td>\n",
       "      <td>25</td>\n",
       "      <td>e</td>\n",
       "      <td>v</td>\n",
       "      <td>75</td>\n",
       "    </tr>\n",
       "  </tbody>\n",
       "</table>\n",
       "</div>"
      ],
      "text/plain": [
       "   coluna_1  coluna_2 coluna_3 coluna_4  soma\n",
       "0        10         5        a        x    15\n",
       "1        20        10        b        y    30\n",
       "2        30        15        c        z    45\n",
       "3        40        20        d        w    60\n",
       "4        50        25        e        v    75"
      ]
     },
     "execution_count": 44,
     "metadata": {},
     "output_type": "execute_result"
    }
   ],
   "source": [
    "soma_coluna(df)"
   ]
  }
 ],
 "metadata": {
  "kernelspec": {
   "display_name": "Python 3",
   "language": "python",
   "name": "python3"
  },
  "language_info": {
   "codemirror_mode": {
    "name": "ipython",
    "version": 3
   },
   "file_extension": ".py",
   "mimetype": "text/x-python",
   "name": "python",
   "nbconvert_exporter": "python",
   "pygments_lexer": "ipython3",
   "version": "3.11.4"
  },
  "orig_nbformat": 4
 },
 "nbformat": 4,
 "nbformat_minor": 2
}
