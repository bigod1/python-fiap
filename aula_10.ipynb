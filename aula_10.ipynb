{
 "cells": [
  {
   "attachments": {},
   "cell_type": "markdown",
   "metadata": {},
   "source": [
    "# Setup"
   ]
  },
  {
   "cell_type": "code",
   "execution_count": null,
   "metadata": {},
   "outputs": [],
   "source": [
    "pip install sympy\n"
   ]
  },
  {
   "cell_type": "code",
   "execution_count": null,
   "metadata": {},
   "outputs": [],
   "source": [
    "pip install pandas\n"
   ]
  },
  {
   "cell_type": "code",
   "execution_count": null,
   "metadata": {},
   "outputs": [],
   "source": [
    "from sympy import *\n",
    "import pandas as pd"
   ]
  },
  {
   "attachments": {},
   "cell_type": "markdown",
   "metadata": {},
   "source": [
    "# Aula 10"
   ]
  },
  {
   "cell_type": "code",
   "execution_count": null,
   "metadata": {},
   "outputs": [],
   "source": [
    "# def nomefunção (a,b)\n",
    "# \"\"Documentação\"\"\n",
    "# código\n",
    "# código\n",
    "# código\n",
    "# return valor\n",
    "\n",
    "def funcao (param1, param2):\n",
    "    total = param1 * param2\n",
    "    return total"
   ]
  },
  {
   "cell_type": "code",
   "execution_count": 4,
   "metadata": {},
   "outputs": [
    {
     "name": "stdout",
     "output_type": "stream",
     "text": [
      "11\n"
     ]
    }
   ],
   "source": [
    "def soma(a,b):\n",
    "    return a+b\n",
    "print(soma(2,9))"
   ]
  },
  {
   "cell_type": "code",
   "execution_count": null,
   "metadata": {},
   "outputs": [],
   "source": [
    "def area_do_quadrado(lado):\n",
    "    area = lado ** 2\n",
    "    return area\n",
    "lado = float(input(\"insira o valor do quadrado: \"))\n",
    "\n",
    "area_do_quadrado(lado)\n",
    "\n",
    "'''\n",
    "Função: area_do_quadrado\n",
    "Parâmetros: lado\n",
    "Estrutura função: area = lado ** 2\n",
    "Return: área\n",
    "input usuário: lado\n",
    "chamar função: area do quadrado (lado)\n",
    "'''"
   ]
  },
  {
   "cell_type": "code",
   "execution_count": 6,
   "metadata": {},
   "outputs": [
    {
     "name": "stdout",
     "output_type": "stream",
     "text": [
      "True\n",
      "False\n",
      "True\n"
     ]
    }
   ],
   "source": [
    "def par(x):\n",
    "    return x % 2 == 0\n",
    "print(par(2))\n",
    "print(par(3))\n",
    "print(par(10))"
   ]
  },
  {
   "cell_type": "code",
   "execution_count": 13,
   "metadata": {},
   "outputs": [],
   "source": [
    "def soma (a,b,imprime=False):\n",
    "    s = a + b\n",
    "    if imprime:\n",
    "        print(s)\n",
    "    return s"
   ]
  },
  {
   "cell_type": "code",
   "execution_count": 15,
   "metadata": {},
   "outputs": [
    {
     "data": {
      "text/plain": [
       "13"
      ]
     },
     "execution_count": 15,
     "metadata": {},
     "output_type": "execute_result"
    }
   ],
   "source": [
    "soma(5,8,False)"
   ]
  },
  {
   "cell_type": "code",
   "execution_count": 16,
   "metadata": {},
   "outputs": [
    {
     "name": "stdout",
     "output_type": "stream",
     "text": [
      "Olá, mundo!\n",
      "Python é legal!\n",
      "Python é legal!\n",
      "Python é legal!\n"
     ]
    }
   ],
   "source": [
    "def exibir_mensagem(mensagem,vezes=1):\n",
    "    for i in range(vezes):\n",
    "        print(mensagem)\n",
    "\n",
    "exibir_mensagem(\"Olá, mundo!\")\n",
    "exibir_mensagem(\"Python é legal!\", 3)\n",
    "\n",
    "'''\n",
    "Função: exibir mensagem\n",
    "Parâmetros: mensagem, vezes\n",
    "Estrutura função: for i in range(vezes)\n",
    "                  print(mensagem)\n",
    "Return: mensagem\n",
    "input usuário: --\n",
    "chamar função: exibir mensagem(mensagem, 3)\n",
    "'''"
   ]
  },
  {
   "cell_type": "code",
   "execution_count": null,
   "metadata": {},
   "outputs": [],
   "source": [
    "def par(x):\n",
    "    return x%2 == 0\n",
    "\n",
    "def par_ou_impar(x):\n",
    "    if par(x):\n",
    "        return \"par\"\n",
    "    else:\n",
    "        return \"impar\"\n",
    "    \n",
    "print(par_ou_impar(4))\n",
    "print(par_ou_impar(5))\n",
    "\n",
    "'''\n",
    "Função: par\n",
    "Parâmetros: x\n",
    "Estrutura função: x%2 == 0\n",
    "Return: True or False\n",
    "input usuário: --\n",
    "chamar função: par (x)\n",
    "\n",
    "Função: par ou ímpar\n",
    "Parâmetros: x\n",
    "Estrutura função: if par(x) else:\n",
    "Return: par e impar\n",
    "chamar função: par ou impar (10)\n",
    "'''"
   ]
  },
  {
   "cell_type": "code",
   "execution_count": null,
   "metadata": {},
   "outputs": [],
   "source": [
    "def pesquise(lista,valor):\n",
    "    for x, i in enumerate(lista):\n",
    "        if i == valor:\n",
    "            return x\n",
    "    return None\n",
    "\n",
    "L = [10,12,25,30]\n",
    "\n",
    "print(pesquise(L,10))\n",
    "print(pesquise(L,25))\n",
    "\n",
    "'''\n",
    "Função: pesquise\n",
    "Parâmetros: lista, valor\n",
    "Estrutura função: for x, i in enumerate(lista)\n",
    "                    if i == valor:\n",
    "Return: x or None\n",
    "input usuário: --\n",
    "chamar função: pesquise (lista, valor)\n",
    "'''"
   ]
  },
  {
   "cell_type": "code",
   "execution_count": 17,
   "metadata": {},
   "outputs": [],
   "source": [
    "L = [10,20,25,30]\n",
    "\n",
    "def soma(L):\n",
    "    toral = 0\n",
    "    for i in L:\n",
    "        total += i\n",
    "    return total\n",
    "\n",
    "def media(L):\n",
    "    return soma(L)/len(L)"
   ]
  },
  {
   "cell_type": "code",
   "execution_count": 7,
   "metadata": {},
   "outputs": [
    {
     "ename": "IndexError",
     "evalue": "list index out of range",
     "output_type": "error",
     "traceback": [
      "\u001b[1;31m---------------------------------------------------------------------------\u001b[0m",
      "\u001b[1;31mIndexError\u001b[0m                                Traceback (most recent call last)",
      "Cell \u001b[1;32mIn[7], line 16\u001b[0m\n\u001b[0;32m     14\u001b[0m         i \u001b[39m+\u001b[39m\u001b[39m=\u001b[39m \u001b[39m1\u001b[39m\n\u001b[0;32m     15\u001b[0m     \u001b[39mreturn\u001b[39;00m soma \n\u001b[1;32m---> 16\u001b[0m \u001b[39mprint\u001b[39m (media(valores))\n",
      "Cell \u001b[1;32mIn[7], line 13\u001b[0m, in \u001b[0;36mmedia\u001b[1;34m(valores)\u001b[0m\n\u001b[0;32m     11\u001b[0m soma \u001b[39m=\u001b[39m \u001b[39m0\u001b[39m\n\u001b[0;32m     12\u001b[0m \u001b[39mwhile\u001b[39;00m i \u001b[39m<\u001b[39m\u001b[39m=\u001b[39m \u001b[39mlen\u001b[39m(valores):\n\u001b[1;32m---> 13\u001b[0m     soma \u001b[39m=\u001b[39m soma \u001b[39m+\u001b[39m valores[i]\n\u001b[0;32m     14\u001b[0m     i \u001b[39m+\u001b[39m\u001b[39m=\u001b[39m \u001b[39m1\u001b[39m\n\u001b[0;32m     15\u001b[0m \u001b[39mreturn\u001b[39;00m soma\n",
      "\u001b[1;31mIndexError\u001b[0m: list index out of range"
     ]
    }
   ],
   "source": [
    "# 1 - Calcular a média da lista usando função def\n",
    "valores = [10,15,20,25,30,35,40,45,50]\n",
    "\n",
    "# 2 - Crie uam função para calcular a força em Newtons de acordo com os valores de entrada da massa e aceleração inseridos pelo usuário\n",
    "# 3 - Escreva uma função que recebe a base a altura de um triângulo e retorne sua área (A=(base x altura) / 2)\n",
    "# 4 - Crie uma função para calcular o volume de um cubo com os valores de largura, altura e comprimento que devem ser inseridos pelo usuário\n",
    "# 5 - Crie uam função para calcular a área de uma sala. O usuário deve inserir as dimensões em metros^2\n",
    "\n",
    "def media(valores):\n",
    "    i = 0\n",
    "    soma = 0\n",
    "    while i <= len(valores):\n",
    "        soma = soma + valores[i]\n",
    "        i += 1\n",
    "    return soma \n",
    "print (media(valores))\n"
   ]
  },
  {
   "cell_type": "code",
   "execution_count": 8,
   "metadata": {},
   "outputs": [
    {
     "name": "stdout",
     "output_type": "stream",
     "text": [
      "1.0\n"
     ]
    }
   ],
   "source": [
    "# 2 - Crie uam função para calcular a força em Newtons de acordo com os valores de entrada da massa e aceleração inseridos pelo usuário\n",
    "def forca(massa,acel):\n",
    "    N = massa * acel\n",
    "    return N\n",
    "massa = float(input(\"coloque a massa: \"))\n",
    "acel = float(input(\"coloque a aceleração: \"))\n",
    "print(forca(massa, acel))"
   ]
  },
  {
   "cell_type": "code",
   "execution_count": 32,
   "metadata": {},
   "outputs": [
    {
     "name": "stdout",
     "output_type": "stream",
     "text": [
      "50.0\n"
     ]
    }
   ],
   "source": [
    "# 3 - Escreva uma função que recebe a base a altura de um triângulo e retorne sua área (A=(base x altura) / 2)\n",
    "def areaT(base,altura):\n",
    "    A=(base*altura)/2\n",
    "    return A\n",
    "base = float(input(\"coloque a base: \"))\n",
    "altura = float(input(\"coloque a altura: \"))\n",
    "print(areaT(base, altura))"
   ]
  },
  {
   "cell_type": "code",
   "execution_count": 31,
   "metadata": {},
   "outputs": [
    {
     "name": "stdout",
     "output_type": "stream",
     "text": [
      "1000.0\n"
     ]
    }
   ],
   "source": [
    "# 4 - Crie uma função para calcular o volume de um cubo com os valores de largura, altura e comprimento que devem ser inseridos pelo usuário\n",
    "\n",
    "def volume(largura,altura, comprimento):\n",
    "    V=largura*altura*comprimento\n",
    "    return V\n",
    "largura = float(input(\"coloque a largura: \"))\n",
    "altura = float(input(\"coloque a altura: \"))\n",
    "comprimento = float(input(\"coloque a comprimento: \"))\n",
    "\n",
    "print(volume(largura, altura, comprimento))"
   ]
  },
  {
   "cell_type": "code",
   "execution_count": null,
   "metadata": {},
   "outputs": [],
   "source": [
    "# 5 - Crie uam função para calcular a área de uma sala. O usuário deve inserir as dimensões em metros^2\n",
    "def areaS(lado1,lado2):\n",
    "    AS=lado1*lado2\n",
    "    return AS\n",
    "lado1 = float(input(\"coloque a dimensão da 1 parede: \"))\n",
    "lado2 = float(input(\"coloque a dimensão da 2 parede: \"))\n",
    "print(areaS(lado1, lado2))"
   ]
  }
 ],
 "metadata": {
  "kernelspec": {
   "display_name": "Python 3",
   "language": "python",
   "name": "python3"
  },
  "language_info": {
   "codemirror_mode": {
    "name": "ipython",
    "version": 3
   },
   "file_extension": ".py",
   "mimetype": "text/x-python",
   "name": "python",
   "nbconvert_exporter": "python",
   "pygments_lexer": "ipython3",
   "version": "3.11.4"
  },
  "orig_nbformat": 4
 },
 "nbformat": 4,
 "nbformat_minor": 2
}
